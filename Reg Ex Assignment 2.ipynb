{
 "cells": [
  {
   "cell_type": "markdown",
   "id": "5d0d1a54",
   "metadata": {},
   "source": [
    "#Question 1- Write a Python program to replace all occurrences of a space, comma, or dot with a colon.\n",
    "Sample Text- 'Python Exercises, PHP exercises.'\n",
    "Expected Output: Python:Exercises::PHP:exercises:\n"
   ]
  },
  {
   "cell_type": "code",
   "execution_count": 2,
   "id": "8f11bc0d",
   "metadata": {},
   "outputs": [
    {
     "name": "stdout",
     "output_type": "stream",
     "text": [
      "Python:Exercises::PHP:exercises:\n"
     ]
    }
   ],
   "source": [
    "import re\n",
    "sample_text = 'Python Exercises, PHP exercises.'\n",
    "output = re.sub('[ ,.]', ':', sample_text)\n",
    "print(output)"
   ]
  },
  {
   "cell_type": "markdown",
   "id": "4e27d236",
   "metadata": {},
   "source": [
    "#Question 2-  Write a Python program to find all words starting with 'a' or 'e' in a given string."
   ]
  },
  {
   "cell_type": "markdown",
   "id": "8eab50e9",
   "metadata": {},
   "source": [
    "#sample string \n",
    "Alice in wonderland having apples and eggs. "
   ]
  },
  {
   "cell_type": "code",
   "execution_count": 10,
   "id": "c728bb55",
   "metadata": {},
   "outputs": [
    {
     "name": "stdout",
     "output_type": "stream",
     "text": [
      "['erland', 'aving', 'apples', 'and', 'eggs']\n"
     ]
    }
   ],
   "source": [
    "import re\n",
    "text= 'Alice in wonderland having apples and eggs.'\n",
    "list= re.findall(\"[ae]\\w+\", text)\n",
    "print(list)"
   ]
  },
  {
   "cell_type": "markdown",
   "id": "7bec0992",
   "metadata": {},
   "source": [
    "#Question 3- Create a function in python to find all words that are at least 4 characters long in a string. The use of the re.compile() method is mandatory."
   ]
  },
  {
   "cell_type": "markdown",
   "id": "00c16b17",
   "metadata": {},
   "source": [
    "#Python has some simple and rudilimentary bulit in documentation that can be quite helpful. \n"
   ]
  },
  {
   "cell_type": "code",
   "execution_count": 20,
   "id": "6d7e5b56",
   "metadata": {},
   "outputs": [
    {
     "name": "stdout",
     "output_type": "stream",
     "text": [
      "['Python', 'some', 'simple', 'rudilimentary', 'built', 'documentation', 'that', 'quite', 'helpful']\n"
     ]
    }
   ],
   "source": [
    "import re\n",
    "\n",
    "def find_words_with_length(string):\n",
    "    pattern = re.compile(r'\\b\\w{4,}\\b')\n",
    "    words = pattern.findall(string)\n",
    "    \n",
    "    return words\n",
    "sample_string = \"Python has some simple and rudilimentary built in documentation that can be quite helpful.\"\n",
    "result = find_words_with_length(sample_string)\n",
    "print(result)\n",
    "    "
   ]
  },
  {
   "cell_type": "markdown",
   "id": "944b8f56",
   "metadata": {},
   "source": [
    "#Question 4- Create a function in python to find all three, four, and five character words in a string. The use of the re.compile() method is mandatory."
   ]
  },
  {
   "cell_type": "code",
   "execution_count": 30,
   "id": "b4c4f7ee",
   "metadata": {},
   "outputs": [
    {
     "name": "stdout",
     "output_type": "stream",
     "text": [
      "['has', 'some', 'and', 'built', 'that', 'can', 'quite']\n"
     ]
    }
   ],
   "source": [
    "import re\n",
    "def find_words_of_lengths(string):\n",
    "    pattern = re.compile(r'\\b\\w{3,5}\\b')\n",
    "    words = pattern.findall(string)\n",
    "    \n",
    "    return words\n",
    "sample_string = \"Python has some simple and rudilimentary built in documentation that can be quite helpful\"\n",
    "result = find_words_of_lengths(sample_string)\n",
    "print(result)"
   ]
  },
  {
   "cell_type": "markdown",
   "id": "8dea2f75",
   "metadata": {},
   "source": [
    "#Question 5- Create a function in Python to remove the parenthesis in a list of strings. The use of the re.compile() method is mandatory.\n",
    "Sample Text: [\"example (.com)\", \"hr@fliprobo (.com)\", \"github (.com)\", \"Hello (Data Science World)\", \"Data (Scientist)\"]\n"
   ]
  },
  {
   "cell_type": "code",
   "execution_count": 31,
   "id": "5dca67e8",
   "metadata": {},
   "outputs": [
    {
     "name": "stdout",
     "output_type": "stream",
     "text": [
      "['example ', 'hr@fliprobo ', 'github ', 'Hello ', 'Data ']\n"
     ]
    }
   ],
   "source": [
    "import re\n",
    "\n",
    "def remove_parentheses(strings):\n",
    "    pattern = re.compile(r'\\([^)]*\\)')\n",
    "    \n",
    "    \n",
    "    cleaned_strings = [pattern.sub('', string) for string in strings]\n",
    "    \n",
    "    return cleaned_strings\n",
    "sample_text = [\"example (.com)\", \"hr@fliprobo (.com)\",\"github (.com)\", \"Hello (Data Science World)\", \"Data (Scientist)\"]\n",
    "result = remove_parentheses(sample_text)\n",
    "print(result)"
   ]
  },
  {
   "cell_type": "markdown",
   "id": "7837d354",
   "metadata": {},
   "source": [
    "#Question 6- Write a python program to remove the parenthesis area from the text stored in the text file using Regular Expression.\n",
    "Sample Text: [\"example (.com)\", \"hr@fliprobo (.com)\", \"github (.com)\", \"Hello (Data Science World)\", \"Data (Scientist)\"]\n",
    "Expected Output: [\"example\", \"hr@fliprobo\", \"github\", \"Hello\", \"Data\"]\n",
    "Note- Store given sample text in the text file and then to remove the parenthesis area from the text.\n"
   ]
  },
  {
   "cell_type": "code",
   "execution_count": 3,
   "id": "ef276e12",
   "metadata": {},
   "outputs": [
    {
     "ename": "FileNotFoundError",
     "evalue": "[Errno 2] No such file or directory: 'input.txt'",
     "output_type": "error",
     "traceback": [
      "\u001b[1;31m---------------------------------------------------------------------------\u001b[0m",
      "\u001b[1;31mFileNotFoundError\u001b[0m                         Traceback (most recent call last)",
      "Cell \u001b[1;32mIn[3], line 3\u001b[0m\n\u001b[0;32m      1\u001b[0m \u001b[38;5;28;01mimport\u001b[39;00m \u001b[38;5;21;01mre\u001b[39;00m\n\u001b[1;32m----> 3\u001b[0m \u001b[38;5;28;01mwith\u001b[39;00m \u001b[38;5;28mopen\u001b[39m(\u001b[38;5;124m'\u001b[39m\u001b[38;5;124minput.txt\u001b[39m\u001b[38;5;124m'\u001b[39m, \u001b[38;5;124m'\u001b[39m\u001b[38;5;124mr\u001b[39m\u001b[38;5;124m'\u001b[39m) \u001b[38;5;28;01mas\u001b[39;00m file:\n\u001b[0;32m      4\u001b[0m     text \u001b[38;5;241m=\u001b[39m file\u001b[38;5;241m.\u001b[39mread([\u001b[38;5;124m'\u001b[39m\u001b[38;5;124mexample(.com)\u001b[39m\u001b[38;5;124m'\u001b[39m,\u001b[38;5;124m'\u001b[39m\u001b[38;5;124mhr@fliprobo(.com)\u001b[39m\u001b[38;5;124m'\u001b[39m,\u001b[38;5;124m'\u001b[39m\u001b[38;5;124mgithub(.com)\u001b[39m\u001b[38;5;124m'\u001b[39m,\u001b[38;5;124m'\u001b[39m\u001b[38;5;124mHello(data science world)\u001b[39m\u001b[38;5;124m'\u001b[39m,\u001b[38;5;124m'\u001b[39m\u001b[38;5;124mdata (scientist)\u001b[39m\u001b[38;5;124m'\u001b[39m])\n\u001b[0;32m      6\u001b[0m modified_text \u001b[38;5;241m=\u001b[39m re\u001b[38;5;241m.\u001b[39msub(\u001b[38;5;124mr\u001b[39m\u001b[38;5;124m'\u001b[39m\u001b[38;5;124m\\\u001b[39m\u001b[38;5;124m([^)]*\u001b[39m\u001b[38;5;124m\\\u001b[39m\u001b[38;5;124m)\u001b[39m\u001b[38;5;124m'\u001b[39m, \u001b[38;5;124m'\u001b[39m\u001b[38;5;124m'\u001b[39m, text)\n",
      "File \u001b[1;32m~\\anaconda3\\ANA\\Lib\\site-packages\\IPython\\core\\interactiveshell.py:284\u001b[0m, in \u001b[0;36m_modified_open\u001b[1;34m(file, *args, **kwargs)\u001b[0m\n\u001b[0;32m    277\u001b[0m \u001b[38;5;28;01mif\u001b[39;00m file \u001b[38;5;129;01min\u001b[39;00m {\u001b[38;5;241m0\u001b[39m, \u001b[38;5;241m1\u001b[39m, \u001b[38;5;241m2\u001b[39m}:\n\u001b[0;32m    278\u001b[0m     \u001b[38;5;28;01mraise\u001b[39;00m \u001b[38;5;167;01mValueError\u001b[39;00m(\n\u001b[0;32m    279\u001b[0m         \u001b[38;5;124mf\u001b[39m\u001b[38;5;124m\"\u001b[39m\u001b[38;5;124mIPython won\u001b[39m\u001b[38;5;124m'\u001b[39m\u001b[38;5;124mt let you open fd=\u001b[39m\u001b[38;5;132;01m{\u001b[39;00mfile\u001b[38;5;132;01m}\u001b[39;00m\u001b[38;5;124m by default \u001b[39m\u001b[38;5;124m\"\u001b[39m\n\u001b[0;32m    280\u001b[0m         \u001b[38;5;124m\"\u001b[39m\u001b[38;5;124mas it is likely to crash IPython. If you know what you are doing, \u001b[39m\u001b[38;5;124m\"\u001b[39m\n\u001b[0;32m    281\u001b[0m         \u001b[38;5;124m\"\u001b[39m\u001b[38;5;124myou can use builtins\u001b[39m\u001b[38;5;124m'\u001b[39m\u001b[38;5;124m open.\u001b[39m\u001b[38;5;124m\"\u001b[39m\n\u001b[0;32m    282\u001b[0m     )\n\u001b[1;32m--> 284\u001b[0m \u001b[38;5;28;01mreturn\u001b[39;00m io_open(file, \u001b[38;5;241m*\u001b[39margs, \u001b[38;5;241m*\u001b[39m\u001b[38;5;241m*\u001b[39mkwargs)\n",
      "\u001b[1;31mFileNotFoundError\u001b[0m: [Errno 2] No such file or directory: 'input.txt'"
     ]
    }
   ],
   "source": [
    "import re\n",
    "\n",
    "with open('input.txt', 'r') as file:\n",
    "    text = file.read(['example(.com)','hr@fliprobo(.com)','github(.com)','Hello(data science world)','data (scientist)'])\n",
    "\n",
    "modified_text = re.sub(r'\\([^)]*\\)', '', text)\n",
    "with open('output.txt', 'w') as file:\n",
    "    file.write(modified_text)\n",
    "print(\"Parenthesis area removed and saved to 'output.txt'\")"
   ]
  },
  {
   "cell_type": "markdown",
   "id": "a178b836",
   "metadata": {},
   "source": [
    "#Question 7- Write a regular expression in Python to split a string into uppercase letters.\n",
    "Sample text: “ImportanceOfRegularExpressionsInPython”\n",
    "Expected Output: [‘Importance’, ‘Of’, ‘Regular’, ‘Expression’, ‘In’, ‘Python’]\n"
   ]
  },
  {
   "cell_type": "code",
   "execution_count": 4,
   "id": "4c6e0764",
   "metadata": {},
   "outputs": [
    {
     "name": "stdout",
     "output_type": "stream",
     "text": [
      "['Importance', 'Of', 'Regular', 'Expressions', 'In', 'Python']\n"
     ]
    }
   ],
   "source": [
    "import re\n",
    "\n",
    "text = \"ImportanceOfRegularExpressionsInPython\"\n",
    "result = re.findall(r'[A-Z][a-z]*', text)\n",
    "print(result)"
   ]
  },
  {
   "cell_type": "markdown",
   "id": "44dc99fa",
   "metadata": {},
   "source": [
    "#Question 8- Create a function in python to insert spaces between words starting with numbers.\n",
    "Sample Text: “RegularExpression1IsAn2ImportantTopic3InPython\"\n",
    "Expected Output: RegularExpression 1IsAn 2ImportantTopic 3InPython\n"
   ]
  },
  {
   "cell_type": "code",
   "execution_count": 5,
   "id": "c7d8bec1",
   "metadata": {},
   "outputs": [
    {
     "name": "stdout",
     "output_type": "stream",
     "text": [
      "RegularExpression1 IsAn2 ImportantTopic3 InPython\n"
     ]
    }
   ],
   "source": [
    "import re\n",
    "\n",
    "def insert_spaces_between_numbers(text):\n",
    "    result = re.sub(r'(\\d)([A-Za-z])', r'\\1 \\2', text)\n",
    "    return result\n",
    "\n",
    "sample_text = \"RegularExpression1IsAn2ImportantTopic3InPython\"\n",
    "output_text = insert_spaces_between_numbers(sample_text)\n",
    "print(output_text)"
   ]
  },
  {
   "cell_type": "markdown",
   "id": "702aea6d",
   "metadata": {},
   "source": [
    "#Question 9- Create a function in python to insert spaces between words starting with capital letters or with numbers.\n",
    "Sample Text: “RegularExpression1IsAn2ImportantTopic3InPython\"\n",
    "Expected Output:  RegularExpression 1 IsAn 2 ImportantTopic 3 InPython\n"
   ]
  },
  {
   "cell_type": "code",
   "execution_count": 6,
   "id": "c24f875f",
   "metadata": {},
   "outputs": [
    {
     "name": "stdout",
     "output_type": "stream",
     "text": [
      "R egularE xpression1 I sA n2 I mportantT opic3 I nP ython\n"
     ]
    }
   ],
   "source": [
    "import re\n",
    "\n",
    "def insert_spaces(text):\n",
    "    result = re.sub(r'(\\d)([A-Z])', r'\\1 \\2', text)\n",
    "    result = re.sub(r'([A-Z])([A-Za-z])', r'\\1 \\2', result)\n",
    "    return result\n",
    "\n",
    "sample_text = \"RegularExpression1IsAn2ImportantTopic3InPython\"\n",
    "output_text = insert_spaces(sample_text)\n",
    "print(output_text)"
   ]
  },
  {
   "cell_type": "markdown",
   "id": "6d2217e0",
   "metadata": {},
   "source": [
    "#Question 10- Write a python program to extract email address from the text stored in the text file using Regular Expression.\n",
    "Sample Text- Hello my name is Data Science and my email address is xyz@domain.com and alternate email address is xyz.abc@sdomain.domain.com. \n",
    "Please contact us at hr@fliprobo.com for further information. \n",
    "Expected Output: \n",
    "['xyz@domain.com', 'xyz.abc@sdomain.domain.com']\n",
    "['hr@fliprobo.com']\n",
    "\n",
    "Note- Store given sample text in the text file and then extract email addresses.\n"
   ]
  },
  {
   "cell_type": "code",
   "execution_count": 11,
   "id": "fa87cdf8",
   "metadata": {},
   "outputs": [
    {
     "ename": "FileNotFoundError",
     "evalue": "[Errno 2] No such file or directory: 'input.txt'",
     "output_type": "error",
     "traceback": [
      "\u001b[1;31m---------------------------------------------------------------------------\u001b[0m",
      "\u001b[1;31mFileNotFoundError\u001b[0m                         Traceback (most recent call last)",
      "Cell \u001b[1;32mIn[11], line 2\u001b[0m\n\u001b[0;32m      1\u001b[0m \u001b[38;5;28;01mimport\u001b[39;00m \u001b[38;5;21;01mre\u001b[39;00m\n\u001b[1;32m----> 2\u001b[0m \u001b[38;5;28;01mwith\u001b[39;00m \u001b[38;5;28mopen\u001b[39m(\u001b[38;5;124m'\u001b[39m\u001b[38;5;124minput.txt\u001b[39m\u001b[38;5;124m'\u001b[39m, \u001b[38;5;124m'\u001b[39m\u001b[38;5;124mr\u001b[39m\u001b[38;5;124m'\u001b[39m) \u001b[38;5;28;01mas\u001b[39;00m file:\n\u001b[0;32m      3\u001b[0m     text \u001b[38;5;241m=\u001b[39m file\u001b[38;5;241m.\u001b[39mread(\u001b[38;5;124m'\u001b[39m\u001b[38;5;124mHello my name is Data Science\u001b[39m\u001b[38;5;124m'\u001b[39m),\n\u001b[0;32m      5\u001b[0m email_pattern \u001b[38;5;241m=\u001b[39m \u001b[38;5;124mr\u001b[39m\u001b[38;5;124m'\u001b[39m\u001b[38;5;124m\\\u001b[39m\u001b[38;5;124mb[A-Za-z0-9._\u001b[39m\u001b[38;5;124m%\u001b[39m\u001b[38;5;124m+-]+@[A-Za-z0-9.-]+\u001b[39m\u001b[38;5;124m\\\u001b[39m\u001b[38;5;124m.[A-Z|a-z]\u001b[39m\u001b[38;5;124m{\u001b[39m\u001b[38;5;124m2,7}\u001b[39m\u001b[38;5;124m\\\u001b[39m\u001b[38;5;124mb\u001b[39m\u001b[38;5;124m'\u001b[39m\n",
      "File \u001b[1;32m~\\anaconda3\\ANA\\Lib\\site-packages\\IPython\\core\\interactiveshell.py:284\u001b[0m, in \u001b[0;36m_modified_open\u001b[1;34m(file, *args, **kwargs)\u001b[0m\n\u001b[0;32m    277\u001b[0m \u001b[38;5;28;01mif\u001b[39;00m file \u001b[38;5;129;01min\u001b[39;00m {\u001b[38;5;241m0\u001b[39m, \u001b[38;5;241m1\u001b[39m, \u001b[38;5;241m2\u001b[39m}:\n\u001b[0;32m    278\u001b[0m     \u001b[38;5;28;01mraise\u001b[39;00m \u001b[38;5;167;01mValueError\u001b[39;00m(\n\u001b[0;32m    279\u001b[0m         \u001b[38;5;124mf\u001b[39m\u001b[38;5;124m\"\u001b[39m\u001b[38;5;124mIPython won\u001b[39m\u001b[38;5;124m'\u001b[39m\u001b[38;5;124mt let you open fd=\u001b[39m\u001b[38;5;132;01m{\u001b[39;00mfile\u001b[38;5;132;01m}\u001b[39;00m\u001b[38;5;124m by default \u001b[39m\u001b[38;5;124m\"\u001b[39m\n\u001b[0;32m    280\u001b[0m         \u001b[38;5;124m\"\u001b[39m\u001b[38;5;124mas it is likely to crash IPython. If you know what you are doing, \u001b[39m\u001b[38;5;124m\"\u001b[39m\n\u001b[0;32m    281\u001b[0m         \u001b[38;5;124m\"\u001b[39m\u001b[38;5;124myou can use builtins\u001b[39m\u001b[38;5;124m'\u001b[39m\u001b[38;5;124m open.\u001b[39m\u001b[38;5;124m\"\u001b[39m\n\u001b[0;32m    282\u001b[0m     )\n\u001b[1;32m--> 284\u001b[0m \u001b[38;5;28;01mreturn\u001b[39;00m io_open(file, \u001b[38;5;241m*\u001b[39margs, \u001b[38;5;241m*\u001b[39m\u001b[38;5;241m*\u001b[39mkwargs)\n",
      "\u001b[1;31mFileNotFoundError\u001b[0m: [Errno 2] No such file or directory: 'input.txt'"
     ]
    }
   ],
   "source": [
    "import re\n",
    "with open('input.txt', 'r') as file:\n",
    "    text = file.read('Hello my name is Data Science'),\n",
    "\n",
    "email_pattern = r'\\b[A-Za-z0-9._%+-]+@[A-Za-z0-9.-]+\\.[A-Z|a-z]{2,7}\\b'\n",
    "email_addresses = re.findall(email_pattern, text)\n",
    "for email in email_addresses:\n",
    "    print(email)"
   ]
  },
  {
   "cell_type": "markdown",
   "id": "10b837d8",
   "metadata": {},
   "source": [
    "#Question 11- Write a Python program to match a string that contains only upper and lowercase letters, numbers, and underscores."
   ]
  },
  {
   "cell_type": "code",
   "execution_count": 18,
   "id": "622ee265",
   "metadata": {},
   "outputs": [
    {
     "name": "stdout",
     "output_type": "stream",
     "text": [
      "Not matched!\n",
      "Found a match!\n"
     ]
    }
   ],
   "source": [
    "import re\n",
    "def text_match(text):\n",
    "        patterns = '^[a-zA-Z0-9_]*$'\n",
    "        if re.search(patterns,  text):\n",
    "                return 'Found a match!'\n",
    "        else:\n",
    "                return('Not matched!')\n",
    "\n",
    "print(text_match(\"The quick brown fox jumps over the lazy dog.\"))\n",
    "print(text_match(\"Python_Exercises_1\"))"
   ]
  },
  {
   "cell_type": "markdown",
   "id": "7008021c",
   "metadata": {},
   "source": [
    "#Question 12- Write a Python program where a string will start with a specific number. "
   ]
  },
  {
   "cell_type": "code",
   "execution_count": 20,
   "id": "f36201c3",
   "metadata": {},
   "outputs": [
    {
     "name": "stdout",
     "output_type": "stream",
     "text": [
      "False\n",
      "True\n"
     ]
    }
   ],
   "source": [
    "import re\n",
    "def match_num(string):\n",
    "    text = re.compile(r\"^\")\n",
    "    if text.match(string):\n",
    "        return True\n",
    "    else:\n",
    "        return False\n",
    "print(match_num('5-2345861'))\n",
    "print(match_num('6-2345861'))"
   ]
  },
  {
   "cell_type": "code",
   "execution_count": null,
   "id": "b59cac94",
   "metadata": {},
   "outputs": [],
   "source": [
    "#Question 13- Write a Python program to remove leading zeros from an IP address"
   ]
  },
  {
   "cell_type": "code",
   "execution_count": 21,
   "id": "2d6d7eb2",
   "metadata": {},
   "outputs": [
    {
     "name": "stdout",
     "output_type": "stream",
     "text": [
      "Original IP Address: 192.003.045.006\n",
      "Cleaned IP Address: 192.3.45.6\n"
     ]
    }
   ],
   "source": [
    "def remove_leading_zeros(ip_address):\n",
    "    \n",
    "    octets = ip_address.split('.')\n",
    "\n",
    "    \n",
    "    cleaned_octets = [str(int(octet)) for octet in octets]\n",
    "\n",
    "    \n",
    "    cleaned_ip_address = '.'.join(cleaned_octets)\n",
    "\n",
    "    return cleaned_ip_address\n",
    "\n",
    "\n",
    "ip_address = \"192.003.045.006\"\n",
    "cleaned_ip = remove_leading_zeros(ip_address)\n",
    "print(\"Original IP Address:\", ip_address)\n",
    "print(\"Cleaned IP Address:\", cleaned_ip)"
   ]
  },
  {
   "cell_type": "markdown",
   "id": "3687f71a",
   "metadata": {},
   "source": [
    "#Question 14- Write a regular expression in python to match a date string in the form of Month name followed by day number and year stored in a text file."
   ]
  },
  {
   "cell_type": "code",
   "execution_count": 30,
   "id": "5cfb8042",
   "metadata": {},
   "outputs": [
    {
     "name": "stdout",
     "output_type": "stream",
     "text": [
      "Match at index 3, 12\n",
      "Full match: August 15\n",
      "Month: August\n",
      "Day: 15\n"
     ]
    }
   ],
   "source": [
    "import re  \n",
    "   \n",
    "# Lets use a regular expression to match a date string  \n",
    "# in the form of Month name followed by day number  \n",
    "regex = r\"([a-zA-Z]+) (\\d+)\"\n",
    "   \n",
    "match = re.search(regex, \"On August 15th 1947 that India was declared independent from British colonialism, and the reins of control were handed over to the leaders of the Country’.\")  \n",
    "   \n",
    "if match != None: \n",
    "    print (\"Match at index %s, %s\" % (match.start(), match.end()))    \n",
    "    print (\"Full match: %s\" % (match.group(0)))   \n",
    "    print (\"Month: %s\" % (match.group(1)))  \n",
    "    print (\"Day: %s\" % (match.group(2))) \n",
    "   \n",
    "else:  \n",
    "    print (\"The regex pattern does not match.\")"
   ]
  },
  {
   "cell_type": "markdown",
   "id": "bc457ab1",
   "metadata": {},
   "source": [
    "#Question 15- Write a Python program to search some literals strings in a string. \n",
    "Sample text : 'The quick brown fox jumps over the lazy dog.'\n",
    "Searched words : 'fox', 'dog', 'horse'\n"
   ]
  },
  {
   "cell_type": "code",
   "execution_count": 33,
   "id": "4a684d19",
   "metadata": {},
   "outputs": [
    {
     "name": "stdout",
     "output_type": "stream",
     "text": [
      "'fox' was found in the text.\n",
      "'dog' was found in the text.\n",
      "'horse' was not found in the text.\n"
     ]
    }
   ],
   "source": [
    "sample_text = 'The quick brown fox jumps over the lazy dog.'\n",
    "searched_words = ['fox', 'dog', 'horse']\n",
    "\n",
    "for word in searched_words:\n",
    "    if word in sample_text:\n",
    "        print(f\"'{word}' was found in the text.\")\n",
    "    else:\n",
    "        print(f\"'{word}' was not found in the text.\")"
   ]
  },
  {
   "cell_type": "markdown",
   "id": "b53209dc",
   "metadata": {},
   "source": [
    "#Question 16- Write a Python program to search a literals string in a string and also find the location within the original string where the pattern occurs\n",
    "Sample text : 'The quick brown fox jumps over the lazy dog.'\n",
    "Searched words : 'fox'\n"
   ]
  },
  {
   "cell_type": "code",
   "execution_count": 34,
   "id": "da711116",
   "metadata": {},
   "outputs": [
    {
     "name": "stdout",
     "output_type": "stream",
     "text": [
      "'fox' was found in the text at index 16.\n"
     ]
    }
   ],
   "source": [
    "sample_text = 'The quick brown fox jumps over the lazy dog.'\n",
    "searched_word = 'fox'\n",
    "\n",
    "index = sample_text.find(searched_word)\n",
    "\n",
    "if index != -1:\n",
    "    print(f\"'{searched_word}' was found in the text at index {index}.\")\n",
    "else:\n",
    "    print(f\"'{searched_word}' was not found in the text.\")"
   ]
  },
  {
   "cell_type": "markdown",
   "id": "8ff6592a",
   "metadata": {},
   "source": [
    "#Question 17- Write a Python program to find the substrings within a string.\n",
    "Sample text : 'Python exercises, PHP exercises, C# exercises'\n",
    "Pattern : 'exercises'.\n"
   ]
  },
  {
   "cell_type": "code",
   "execution_count": 35,
   "id": "310147b6",
   "metadata": {},
   "outputs": [
    {
     "name": "stdout",
     "output_type": "stream",
     "text": [
      "Found 'exercises' at index 7\n",
      "Found 'exercises' at index 22\n",
      "Found 'exercises' at index 36\n"
     ]
    }
   ],
   "source": [
    "sample_text = 'Python exercises, PHP exercises, C# exercises'\n",
    "pattern = 'exercises'\n",
    "\n",
    "start = 0\n",
    "while start < len(sample_text):\n",
    "    index = sample_text.find(pattern, start)\n",
    "    if index == -1:\n",
    "        break\n",
    "    print(f\"Found '{pattern}' at index {index}\")\n",
    "    start = index + len(pattern)"
   ]
  },
  {
   "cell_type": "markdown",
   "id": "276902ac",
   "metadata": {},
   "source": [
    "#Question 18- Write a Python program to find the occurrence and position of the substrings within a string."
   ]
  },
  {
   "cell_type": "code",
   "execution_count": 36,
   "id": "de36b8d8",
   "metadata": {},
   "outputs": [
    {
     "name": "stdout",
     "output_type": "stream",
     "text": [
      "'exercises' found 3 times at positions: [7, 22, 36]\n"
     ]
    }
   ],
   "source": [
    "def find_substring_positions(text, substring):\n",
    "    positions = []\n",
    "    start = 0\n",
    "\n",
    "    while start < len(text):\n",
    "        index = text.find(substring, start)\n",
    "        if index == -1:\n",
    "            break\n",
    "        positions.append(index)\n",
    "        start = index + len(substring)\n",
    "\n",
    "    return positions\n",
    "\n",
    "sample_text = 'Python exercises, PHP exercises, C# exercises'\n",
    "pattern = 'exercises'\n",
    "\n",
    "positions = find_substring_positions(sample_text, pattern)\n",
    "\n",
    "if positions:\n",
    "    print(f\"'{pattern}' found {len(positions)} times at positions: {positions}\")\n",
    "else:\n",
    "    print(f\"'{pattern}' not found in the text.\")"
   ]
  },
  {
   "cell_type": "markdown",
   "id": "af4a112a",
   "metadata": {},
   "source": [
    "#Question 19- Write a Python program to convert a date of yyyy-mm-dd format to dd-mm-yyyy format."
   ]
  },
  {
   "cell_type": "code",
   "execution_count": 41,
   "id": "ece847cb",
   "metadata": {},
   "outputs": [
    {
     "name": "stdout",
     "output_type": "stream",
     "text": [
      "Original Date: 2023-10-19\n",
      "Converted Date: 19-10-2023\n"
     ]
    }
   ],
   "source": [
    "def convert_date_format(date_str):\n",
    "    year, month, day = date_str.split('-')\n",
    "    new_date_str = f\"{day}-{month}-{year}\"\n",
    "\n",
    "    return new_date_str\n",
    "\n",
    "date_str = \"2023-10-19\"\n",
    "new_date_str = convert_date_format(date_str)\n",
    "\n",
    "print(\"Original Date:\", date_str)\n",
    "print(\"Converted Date:\", new_date_str)"
   ]
  },
  {
   "cell_type": "markdown",
   "id": "22f952b2",
   "metadata": {},
   "source": [
    "#Question 20- Create a function in python to find all decimal numbers with a precision of 1 or 2 in a string. The use of the re.compile() method is mandatory.\n",
    "Sample Text: \"01.12 0132.123 2.31875 145.8 3.01 27.25 0.25\"\n",
    "Expected Output: ['01.12', '145.8', '3.01', '27.25', '0.25']\n"
   ]
  },
  {
   "cell_type": "code",
   "execution_count": 42,
   "id": "a28d8eb3",
   "metadata": {},
   "outputs": [
    {
     "name": "stdout",
     "output_type": "stream",
     "text": [
      "['01.12', '145.8', '3.01', '27.25', '0.25']\n"
     ]
    }
   ],
   "source": [
    "import re\n",
    "\n",
    "def find_decimal_numbers(text):\n",
    "    pattern = re.compile(r'\\b\\d+\\.\\d{1,2}\\b')\n",
    "    decimal_numbers = pattern.findall(text)\n",
    "\n",
    "    return decimal_numbers\n",
    "\n",
    "sample_text = \"01.12 0132.123 2.31875 145.8 3.01 27.25 0.25\"\n",
    "\n",
    "result = find_decimal_numbers(sample_text)\n",
    "print(result)"
   ]
  },
  {
   "cell_type": "markdown",
   "id": "96cdc871",
   "metadata": {},
   "source": [
    "#Question 21- Write a Python program to separate and print the numbers and their position of a given string."
   ]
  },
  {
   "cell_type": "code",
   "execution_count": 43,
   "id": "205f3867",
   "metadata": {},
   "outputs": [
    {
     "name": "stdout",
     "output_type": "stream",
     "text": [
      "Number: 123, Position: 6\n",
      "Number: 456, Position: 19\n",
      "Number: 789, Position: 35\n"
     ]
    }
   ],
   "source": [
    "import re\n",
    "\n",
    "def separate_and_print_numbers(text):\n",
    "    pattern = r'\\d+'\n",
    "    for match in re.finditer(pattern, text):\n",
    "        number = match.group()\n",
    "        position = match.start()\n",
    "        print(f\"Number: {number}, Position: {position}\")\n",
    "\n",
    "sample_text = \"Hello 123, this is 456, and that's 789.\"\n",
    "\n",
    "separate_and_print_numbers(sample_text)"
   ]
  },
  {
   "cell_type": "markdown",
   "id": "9047ab94",
   "metadata": {},
   "source": [
    "#Question 22- Write a regular expression in python program to extract maximum/largest numeric value from a string.\n",
    "Sample Text:  'My marks in each semester are: 947, 896, 926, 524, 734, 950, 642'\n",
    "Expected Output: 950\n"
   ]
  },
  {
   "cell_type": "code",
   "execution_count": 44,
   "id": "7d8ae988",
   "metadata": {},
   "outputs": [
    {
     "name": "stdout",
     "output_type": "stream",
     "text": [
      "Maximum Numeric Value: 950\n"
     ]
    }
   ],
   "source": [
    "import re\n",
    "\n",
    "def extract_maximum_numeric_value(text):\n",
    "    # Define a regular expression pattern to match numeric values\n",
    "    pattern = r'\\d+'\n",
    "\n",
    "    numeric_values = re.findall(pattern, text)\n",
    "\n",
    "    if numeric_values:\n",
    "        max_numeric_value = max(map(int, numeric_values))\n",
    "        return max_numeric_value\n",
    "    else:\n",
    "        return None\n",
    "sample_text = 'My marks in each semester are: 947, 896, 926, 524, 734, 950, 642'\n",
    "\n",
    "max_value = extract_maximum_numeric_value(sample_text)\n",
    "\n",
    "if max_value is not None:\n",
    "    print(\"Maximum Numeric Value:\", max_value)\n",
    "else:\n",
    "    print(\"No numeric values found in the text.\")"
   ]
  },
  {
   "cell_type": "markdown",
   "id": "7305e7d0",
   "metadata": {},
   "source": [
    "#Question 23- Create a function in python to insert spaces between words starting with capital letters.\n",
    "Sample Text: “RegularExpressionIsAnImportantTopicInPython\"\n",
    "Expected Output: Regular Expression Is An Important Topic In Python\n"
   ]
  },
  {
   "cell_type": "code",
   "execution_count": 46,
   "id": "f0e4e85c",
   "metadata": {},
   "outputs": [
    {
     "name": "stdout",
     "output_type": "stream",
     "text": [
      "Regular Expression Is An Important Topic In Python\n"
     ]
    }
   ],
   "source": [
    "import re\n",
    "\n",
    "def insert_spaces_between_caps(text):\n",
    "    result = re.sub(r'([a-z])([A-Z])', r'\\1 \\2', text)\n",
    "    return result\n",
    "\n",
    "sample_text = \"RegularExpressionIsAnImportantTopicInPython\"\n",
    "\n",
    "modified_text = insert_spaces_between_caps(sample_text)\n",
    "print(modified_text)"
   ]
  },
  {
   "cell_type": "markdown",
   "id": "3234bf79",
   "metadata": {},
   "source": [
    "#Question 24- Python regex to find sequences of one upper case letter followed by lower case letters"
   ]
  },
  {
   "cell_type": "code",
   "execution_count": 47,
   "id": "c36915ab",
   "metadata": {},
   "outputs": [
    {
     "name": "stdout",
     "output_type": "stream",
     "text": [
      "['Cookie']\n"
     ]
    }
   ],
   "source": [
    "import re\n",
    "\n",
    "text = \"I have a dog named Cookie.\"\n",
    "pattern = r'[A-Z][a-z]+'\n",
    "\n",
    "matches = re.findall(pattern, text)\n",
    "print(matches)"
   ]
  },
  {
   "cell_type": "markdown",
   "id": "094e54ce",
   "metadata": {},
   "source": [
    "#Question 25- Write a Python program to remove continuous duplicate words from Sentence using Regular Expression.\n",
    "Sample Text: \"Hello hello world world\"\n",
    "Expected Output: Hello hello world\n"
   ]
  },
  {
   "cell_type": "code",
   "execution_count": 48,
   "id": "5ab67efd",
   "metadata": {},
   "outputs": [
    {
     "name": "stdout",
     "output_type": "stream",
     "text": [
      "Hello hello world\n"
     ]
    }
   ],
   "source": [
    "import re\n",
    "\n",
    "def remove_continuous_duplicates(sentence):\n",
    "    cleaned_sentence = re.sub(r'\\b(\\w+)( \\1)+\\b', r'\\1', sentence)\n",
    "    return cleaned_sentence\n",
    "\n",
    "sample_text = \"Hello hello world world\"\n",
    "cleaned_text = remove_continuous_duplicates(sample_text)\n",
    "print(cleaned_text)"
   ]
  },
  {
   "cell_type": "markdown",
   "id": "8e1192f0",
   "metadata": {},
   "source": [
    "#Question 26-  Write a python program using RegEx to accept string ending with alphanumeric character."
   ]
  },
  {
   "cell_type": "code",
   "execution_count": 50,
   "id": "439445f1",
   "metadata": {},
   "outputs": [
    {
     "name": "stdout",
     "output_type": "stream",
     "text": [
      "'Dasiy234' ends with an alphanumeric character.\n",
      "'Woodcutter!' does not end with an alphanumeric character.\n",
      "'12345' ends with an alphanumeric character.\n",
      "'A string with spaces ' does not end with an alphanumeric character.\n"
     ]
    }
   ],
   "source": [
    "import re\n",
    "\n",
    "def is_string_ending_with_alphanumeric(input_string):\n",
    "    pattern = r'^.*[A-Za-z0-9]$'\n",
    "    match = re.match(pattern, input_string)\n",
    "\n",
    "    return bool(match)\n",
    "\n",
    "\n",
    "strings_to_test = [\"Dasiy234\", \"Woodcutter!\", \"12345\", \"A string with spaces \"]\n",
    "for s in strings_to_test:\n",
    "    if is_string_ending_with_alphanumeric(s):\n",
    "        print(f\"'{s}' ends with an alphanumeric character.\")\n",
    "    else:\n",
    "        print(f\"'{s}' does not end with an alphanumeric character.\")"
   ]
  },
  {
   "cell_type": "markdown",
   "id": "5836a341",
   "metadata": {},
   "source": [
    "#Question 27-Write a python program using RegEx to extract the hashtags.\n",
    "Sample Text:  \"\"\"RT @kapil_kausik: #Doltiwal I mean #xyzabc is \"hurt\" by #Demonetization as the same has rendered USELESS <ed><U+00A0><U+00BD><ed><U+00B1><U+0089> \"acquired funds\" No wo\"\"\"\n",
    "Expected Output: ['#Doltiwal', '#xyzabc', '#Demonetization']\n"
   ]
  },
  {
   "cell_type": "code",
   "execution_count": 51,
   "id": "44649976",
   "metadata": {},
   "outputs": [
    {
     "name": "stdout",
     "output_type": "stream",
     "text": [
      "['#Doltiwal', '#xyzabc', '#Demonetization']\n"
     ]
    }
   ],
   "source": [
    "import re\n",
    "\n",
    "def extract_hashtags(text):\n",
    "    pattern = r'#\\w+'\n",
    "    hashtags = re.findall(pattern, text)\n",
    "\n",
    "    return hashtags\n",
    "\n",
    "\n",
    "sample_text = \"\"\"RT @kapil_kausik: #Doltiwal I mean #xyzabc is \"hurt\" by #Demonetization as the same has rendered USELESS <ed><U+00A0><U+00BD><ed><U+00B1><U+0089> \"acquired funds\" No wo\"\"\"\n",
    "\n",
    "hashtags = extract_hashtags(sample_text)\n",
    "print(hashtags)"
   ]
  },
  {
   "cell_type": "markdown",
   "id": "2c24be0c",
   "metadata": {},
   "source": [
    "#Question 28- Write a python program using RegEx to remove <U+..> like symbols\n",
    "Check the below sample text, there are strange symbols something of the sort <U+..> all over the place. You need to come up with a general Regex expression that will cover all such symbols.\n",
    "Sample Text: \"@Jags123456 Bharat band on 28??<ed><U+00A0><U+00BD><ed><U+00B8><U+0082>Those who  are protesting #demonetization  are all different party leaders\"\n",
    "Expected Output: @Jags123456 Bharat band on 28??<ed><ed>Those who  are protesting #demonetization  are all different party leaders\n"
   ]
  },
  {
   "cell_type": "code",
   "execution_count": 59,
   "id": "0ce0fafd",
   "metadata": {},
   "outputs": [
    {
     "name": "stdout",
     "output_type": "stream",
     "text": [
      "@Jags123456 Bharat band on 28??<ed><ed>Those who  are protesting #demonetization  are all different party leaders\n"
     ]
    }
   ],
   "source": [
    "import re\n",
    "\n",
    "def remove_special_symbols(text):\n",
    "    pattern = r'<U\\+[A-Fa-f0-9]+>'\n",
    "    cleaned_text = re.sub(pattern, '', text)\n",
    "\n",
    "    return cleaned_text\n",
    "sample_text = \"@Jags123456 Bharat band on 28??<ed><U+00A0><U+00BD><ed><U+00B8><U+0082>Those who  are protesting #demonetization  are all different party leaders\"\n",
    "cleaned_text = remove_special_symbols(sample_text)\n",
    "print(cleaned_text)"
   ]
  },
  {
   "cell_type": "markdown",
   "id": "728f9349",
   "metadata": {},
   "source": [
    "#Question 29- Write a python program to extract dates from the text stored in the text file.\n",
    "Sample Text: Ron was born on 12-09-1992 and he was admitted to school 15-12-1999.\n",
    "Note- Store this sample text in the file and then extract dates.\n"
   ]
  },
  {
   "cell_type": "code",
   "execution_count": 65,
   "id": "90887dce",
   "metadata": {},
   "outputs": [
    {
     "ename": "SyntaxError",
     "evalue": "invalid syntax (1660746415.py, line 4)",
     "output_type": "error",
     "traceback": [
      "\u001b[1;36m  Cell \u001b[1;32mIn[65], line 4\u001b[1;36m\u001b[0m\n\u001b[1;33m    text = file.read(http://localhost:8888/edit/anaconda3/sample_text#)\u001b[0m\n\u001b[1;37m                         ^\u001b[0m\n\u001b[1;31mSyntaxError\u001b[0m\u001b[1;31m:\u001b[0m invalid syntax\n"
     ]
    }
   ],
   "source": [
    "import re\n",
    "\n",
    "file = open(\"minutes.txt\",'r')\n",
    "text = file.read(http://localhost:8888/edit/anaconda3/sample_text#)\n",
    "matches = re.findall(r'(\\d+/\\d+/\\d+)',text)\n",
    "\n",
    "print(matches)"
   ]
  },
  {
   "cell_type": "markdown",
   "id": "f4deeef9",
   "metadata": {},
   "source": [
    "#Question 30- Create a function in python to remove all words from a string of length between 2 and 4.\n",
    "The use of the re.compile() method is mandatory.\n",
    "Sample Text: \"The following example creates an ArrayList with a capacity of 50 elements. 4 elements are then added to the ArrayList and the ArrayList is trimmed accordingly.\"\n",
    "Expected Output:  following example creates ArrayList a capacity elements. 4 elements added ArrayList ArrayList trimmed accordingly.\n"
   ]
  },
  {
   "cell_type": "code",
   "execution_count": 62,
   "id": "af09cd53",
   "metadata": {},
   "outputs": [
    {
     "name": "stdout",
     "output_type": "stream",
     "text": [
      " following example creates  ArrayList  a capacity   elements. 4 elements   added   ArrayList   ArrayList  trimmed accordingly.\n"
     ]
    }
   ],
   "source": [
    "import re\n",
    "\n",
    "def remove_words_between_length(text):\n",
    "    pattern = re.compile(r'\\b\\w{2,4}\\b')\n",
    "    cleaned_text = pattern.sub('', text)\n",
    "\n",
    "    return cleaned_text\n",
    "\n",
    "sample_text = \"The following example creates an ArrayList with a capacity of 50 elements. 4 elements are then added to the ArrayList and the ArrayList is trimmed accordingly.\"\n",
    "cleaned_text = remove_words_between_length(sample_text)\n",
    "print(cleaned_text)"
   ]
  },
  {
   "cell_type": "code",
   "execution_count": null,
   "id": "8fb53b7d",
   "metadata": {},
   "outputs": [],
   "source": []
  }
 ],
 "metadata": {
  "kernelspec": {
   "display_name": "Python 3 (ipykernel)",
   "language": "python",
   "name": "python3"
  },
  "language_info": {
   "codemirror_mode": {
    "name": "ipython",
    "version": 3
   },
   "file_extension": ".py",
   "mimetype": "text/x-python",
   "name": "python",
   "nbconvert_exporter": "python",
   "pygments_lexer": "ipython3",
   "version": "3.11.3"
  }
 },
 "nbformat": 4,
 "nbformat_minor": 5
}
